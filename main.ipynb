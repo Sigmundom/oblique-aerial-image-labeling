{
 "cells": [
  {
   "cell_type": "code",
   "execution_count": 1,
   "metadata": {},
   "outputs": [
    {
     "name": "stdout",
     "output_type": "stream",
     "text": [
      "ascii\n"
     ]
    },
    {
     "name": "stderr",
     "output_type": "stream",
     "text": [
      "100%|██████████| 559934/559934 [00:02<00:00, 223113.38it/s]"
     ]
    }
   ],
   "source": [
    "# from PIL import Image, ExifTags, ImageFilter\n",
    "import sosi\n",
    "# import matplotlib.pyplot as plt\n",
    "# import numpy as np\n",
    "# import math\n",
    "\n",
    "# filename = 'images/Bakoverrettede bilder/30196_127_02033_210427_Cam4B.jpg'\n",
    "sosi_file = 'images/Somlinjefiler/cam4B.sos'\n",
    "\n",
    "\n",
    "\n",
    "data = sosi.read_sos(sosi_file)\n",
    "\n",
    "# image = Image.open(filename)\n",
    "\n",
    "# image.show()"
   ]
  }
 ],
 "metadata": {
  "kernelspec": {
   "display_name": "Python 3.9.12 ('open3d')",
   "language": "python",
   "name": "python3"
  },
  "language_info": {
   "codemirror_mode": {
    "name": "ipython",
    "version": 3
   },
   "file_extension": ".py",
   "mimetype": "text/x-python",
   "name": "python",
   "nbconvert_exporter": "python",
   "pygments_lexer": "ipython3",
   "version": "3.9.12"
  },
  "orig_nbformat": 4,
  "vscode": {
   "interpreter": {
    "hash": "3eb1c627d9a46b864c4ba7319f50a8a3e597ca4e5026296158d1336b3a00680f"
   }
  }
 },
 "nbformat": 4,
 "nbformat_minor": 2
}
